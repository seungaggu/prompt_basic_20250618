{
 "cells": [
  {
   "cell_type": "code",
   "execution_count": 1,
   "id": "94576205",
   "metadata": {},
   "outputs": [
    {
     "name": "stdout",
     "output_type": "stream",
     "text": [
      "OPENAI_API_KEY:  sk-proj-pw\n"
     ]
    }
   ],
   "source": [
    "from dotenv import load_dotenv\n",
    "import os\n",
    "print(\"OPENAI_API_KEY: \", os.getenv(\"OPENAI_API_KEY\")[:10])"
   ]
  },
  {
   "cell_type": "markdown",
   "id": "33a6dfc8",
   "metadata": {},
   "source": [
    "# PromptTemplate"
   ]
  },
  {
   "cell_type": "code",
   "execution_count": 2,
   "id": "91b642e7",
   "metadata": {},
   "outputs": [],
   "source": [
    "from langchain_core.prompts import PromptTemplate"
   ]
  },
  {
   "cell_type": "code",
   "execution_count": 3,
   "id": "f8b1153c",
   "metadata": {},
   "outputs": [],
   "source": [
    "template = \"What is a good name for a company that makes {product}?\"\n",
    "prompt = PromptTemplate.from_template(template)"
   ]
  },
  {
   "cell_type": "code",
   "execution_count": 4,
   "id": "1db1d0e1",
   "metadata": {},
   "outputs": [
    {
     "name": "stdout",
     "output_type": "stream",
     "text": [
      "What is a good name for a company that makes colorful socks?\n"
     ]
    }
   ],
   "source": [
    "formatted_prompt = prompt.format(product=\"colorful socks\")\n",
    "print(formatted_prompt)"
   ]
  },
  {
   "cell_type": "markdown",
   "id": "81f666c0",
   "metadata": {},
   "source": [
    "# ChatOpenAI"
   ]
  },
  {
   "cell_type": "code",
   "execution_count": 5,
   "id": "1c10a7a1",
   "metadata": {},
   "outputs": [],
   "source": [
    "from langchain_openai import ChatOpenAI"
   ]
  },
  {
   "cell_type": "code",
   "execution_count": 6,
   "id": "c448b9e7",
   "metadata": {},
   "outputs": [],
   "source": [
    "llm = ChatOpenAI(model=\"gpt-4.1-nano\", max_tokens=50, temperature=0.2)"
   ]
  },
  {
   "cell_type": "code",
   "execution_count": null,
   "id": "880acfcd",
   "metadata": {},
   "outputs": [
    {
     "name": "stdout",
     "output_type": "stream",
     "text": [
      "content=\"Hello! I'm an AI language model here to assist you. How can I help today?\" additional_kwargs={'refusal': None} response_metadata={'token_usage': {'completion_tokens': 18, 'prompt_tokens': 13, 'total_tokens': 31, 'completion_tokens_details': {'accepted_prediction_tokens': 0, 'audio_tokens': 0, 'reasoning_tokens': 0, 'rejected_prediction_tokens': 0}, 'prompt_tokens_details': {'audio_tokens': 0, 'cached_tokens': 0}}, 'model_name': 'gpt-4.1-nano-2025-04-14', 'system_fingerprint': 'fp_38343a2f8f', 'id': 'chatcmpl-Bk1y67BCopLiT6AJHy4R62CGhROos', 'service_tier': 'default', 'finish_reason': 'stop', 'logprobs': None} id='run--c2ba6176-7d2b-4142-93b2-55761bb5ae9c-0' usage_metadata={'input_tokens': 13, 'output_tokens': 18, 'total_tokens': 31, 'input_token_details': {'audio': 0, 'cache_read': 0}, 'output_token_details': {'audio': 0, 'reasoning': 0}}\n",
      "Hello! I'm an AI language model here to assist you. How can I help today?\n"
     ]
    }
   ],
   "source": [
    "response = llm.invoke([(\"human\", \"Hello, who are you?\")])\n",
    "print(response)\n",
    "print(response.content)    # 메세지만 보기."
   ]
  },
  {
   "cell_type": "markdown",
   "id": "6142ffa0",
   "metadata": {},
   "source": [
    "# Runnable\n",
    "- Runnable 인터페이스: 실행 가능 구성 요소\n",
    "- 서로 다른 컴포넌트들이 호환가능한 형태로 결합할 수 있게 만들어 줌.\n",
    "- 클래스의 형타입을 통일시키는 역할 -> 호환, 결합 가능"
   ]
  },
  {
   "cell_type": "markdown",
   "id": "860c182a",
   "metadata": {},
   "source": [
    "# StrOutputParser"
   ]
  },
  {
   "cell_type": "code",
   "execution_count": 9,
   "id": "089d4b97",
   "metadata": {},
   "outputs": [],
   "source": [
    "from langchain_core.output_parsers import StrOutputParser"
   ]
  },
  {
   "cell_type": "code",
   "execution_count": 11,
   "id": "2b0c0ab5",
   "metadata": {},
   "outputs": [
    {
     "name": "stdout",
     "output_type": "stream",
     "text": [
      "Hello! I'm an AI language model here to assist you. How can I help today?\n"
     ]
    }
   ],
   "source": [
    "parser = StrOutputParser()\n",
    "parsed_response = parser.invoke(response)\n",
    "print(parsed_response)"
   ]
  },
  {
   "cell_type": "markdown",
   "id": "622049cf",
   "metadata": {},
   "source": [
    "# Pipline, LCEL(LangChain Expression Language)"
   ]
  },
  {
   "cell_type": "code",
   "execution_count": null,
   "id": "8bca9214",
   "metadata": {},
   "outputs": [],
   "source": [
    "chain = prompt | llm | parser   # PromptTemplate -> ChatOpenAI -> StrOutputParser 실행 순서로 출력"
   ]
  },
  {
   "cell_type": "code",
   "execution_count": null,
   "id": "f47f1466",
   "metadata": {},
   "outputs": [
    {
     "name": "stdout",
     "output_type": "stream",
     "text": [
      "Sure! Here are some creative and appealing name ideas for a company that makes decaffeinated coffee:\n",
      "\n",
      "1. Calm Brew\n",
      "2. Serenity Coffee Co.\n",
      "3. Zero Buzz Coffee\n",
      "4. Tranquil Beans\n",
      "5. Purely Decaf\n"
     ]
    }
   ],
   "source": [
    "result = chain.invoke({\"product\": \"decaffeinated coffee\"})\n",
    "print(result)"
   ]
  },
  {
   "cell_type": "markdown",
   "id": "d14ce03f",
   "metadata": {},
   "source": [
    "# LangChain으로 토큰 사용량 추적"
   ]
  },
  {
   "cell_type": "code",
   "execution_count": 16,
   "id": "5733dcee",
   "metadata": {},
   "outputs": [
    {
     "name": "stdout",
     "output_type": "stream",
     "text": [
      "토큰 사용 정보:  {'input_tokens': 13, 'output_tokens': 18, 'total_tokens': 31, 'input_token_details': {'audio': 0, 'cache_read': 0}, 'output_token_details': {'audio': 0, 'reasoning': 0}}\n"
     ]
    }
   ],
   "source": [
    "print(\"토큰 사용 정보: \", response.usage_metadata)"
   ]
  },
  {
   "cell_type": "code",
   "execution_count": 17,
   "id": "a6a1deb1",
   "metadata": {},
   "outputs": [
    {
     "name": "stderr",
     "output_type": "stream",
     "text": [
      "\u001b[2mResolved \u001b[1m58 packages\u001b[0m \u001b[2min 665ms\u001b[0m\u001b[0m\n",
      "\u001b[36m\u001b[1mDownloading\u001b[0m\u001b[39m langchain-community \u001b[2m(2.4MiB)\u001b[0m\n",
      " \u001b[32m\u001b[1mDownloaded\u001b[0m\u001b[39m langchain-community\n",
      "\u001b[2mPrepared \u001b[1m14 packages\u001b[0m \u001b[2min 5.63s\u001b[0m\u001b[0m\n",
      "\u001b[2mInstalled \u001b[1m15 packages\u001b[0m \u001b[2min 432ms\u001b[0m\u001b[0m\n",
      " \u001b[32m+\u001b[39m \u001b[1maiohappyeyeballs\u001b[0m\u001b[2m==2.6.1\u001b[0m\n",
      " \u001b[32m+\u001b[39m \u001b[1maiohttp\u001b[0m\u001b[2m==3.12.13\u001b[0m\n",
      " \u001b[32m+\u001b[39m \u001b[1maiosignal\u001b[0m\u001b[2m==1.3.2\u001b[0m\n",
      " \u001b[32m+\u001b[39m \u001b[1mdataclasses-json\u001b[0m\u001b[2m==0.6.7\u001b[0m\n",
      " \u001b[32m+\u001b[39m \u001b[1mfrozenlist\u001b[0m\u001b[2m==1.7.0\u001b[0m\n",
      " \u001b[32m+\u001b[39m \u001b[1mhttpx-sse\u001b[0m\u001b[2m==0.4.0\u001b[0m\n",
      " \u001b[32m+\u001b[39m \u001b[1mlangchain-community\u001b[0m\u001b[2m==0.3.25\u001b[0m\n",
      " \u001b[32m+\u001b[39m \u001b[1mmarshmallow\u001b[0m\u001b[2m==3.26.1\u001b[0m\n",
      " \u001b[32m+\u001b[39m \u001b[1mmultidict\u001b[0m\u001b[2m==6.5.0\u001b[0m\n",
      " \u001b[32m+\u001b[39m \u001b[1mmypy-extensions\u001b[0m\u001b[2m==1.1.0\u001b[0m\n",
      " \u001b[32m+\u001b[39m \u001b[1mnumpy\u001b[0m\u001b[2m==2.3.0\u001b[0m\n",
      " \u001b[32m+\u001b[39m \u001b[1mpropcache\u001b[0m\u001b[2m==0.3.2\u001b[0m\n",
      " \u001b[32m+\u001b[39m \u001b[1mpydantic-settings\u001b[0m\u001b[2m==2.9.1\u001b[0m\n",
      " \u001b[32m+\u001b[39m \u001b[1mtyping-inspect\u001b[0m\u001b[2m==0.9.0\u001b[0m\n",
      " \u001b[32m+\u001b[39m \u001b[1myarl\u001b[0m\u001b[2m==1.20.1\u001b[0m\n"
     ]
    }
   ],
   "source": [
    "!uv add langchain_community"
   ]
  },
  {
   "cell_type": "code",
   "execution_count": 18,
   "id": "31452de2",
   "metadata": {},
   "outputs": [],
   "source": [
    "# 콜백을 통한 누적 토큰 추적\n",
    "from langchain_community.callbacks import get_openai_callback"
   ]
  },
  {
   "cell_type": "code",
   "execution_count": 19,
   "id": "99a2952b",
   "metadata": {},
   "outputs": [
    {
     "name": "stdout",
     "output_type": "stream",
     "text": [
      "응답:  죄송하지만, 현재 실시간 날씨 정보를 제공할 수 없습니 ...\n",
      "응답:  물론입니다! 파이썬에서 리스트를 만드는 방법에는 여러  ...\n"
     ]
    }
   ],
   "source": [
    "with get_openai_callback() as cb:\n",
    "  res1 = llm.invoke(\"조치원의 오늘 날씨는 어때?\")\n",
    "  print(\"응답: \", res1.content[:30], \"...\")\n",
    "  res2 = llm.invoke(\"파이썬으로 리스트 만드는 방법을 예시로 알려줘\")\n",
    "  print(\"응답: \", res2.content[:30], \"...\")"
   ]
  },
  {
   "cell_type": "code",
   "execution_count": 21,
   "id": "774f72c2",
   "metadata": {},
   "outputs": [
    {
     "name": "stdout",
     "output_type": "stream",
     "text": [
      "총 토큰 수: 129\n",
      "프롬프트 토큰:  38\n",
      "응답 토큰: 91\n",
      "총 비용: 0.000040\n"
     ]
    }
   ],
   "source": [
    "print(f\"총 토큰 수: {cb.total_tokens}\")\n",
    "print(f\"프롬프트 토큰:  {cb.prompt_tokens}\")\n",
    "print(f\"응답 토큰: {cb.completion_tokens}\")\n",
    "print(f\"총 비용: {cb.total_cost:.6f}\")"
   ]
  },
  {
   "cell_type": "markdown",
   "id": "deb20db5",
   "metadata": {},
   "source": [
    "# Langchain LLM 응답 캐싱"
   ]
  },
  {
   "cell_type": "code",
   "execution_count": 22,
   "id": "f54ffaa3",
   "metadata": {},
   "outputs": [],
   "source": [
    "from langchain_core.caches import InMemoryCache\n",
    "from langchain_core.globals import set_llm_cache\n",
    "# InMemoryCache 설정\n",
    "set_llm_cache(InMemoryCache())"
   ]
  },
  {
   "cell_type": "code",
   "execution_count": 23,
   "id": "5609f4ca",
   "metadata": {},
   "outputs": [
    {
     "name": "stdout",
     "output_type": "stream",
     "text": [
      "응답1:  물리학자가 친구에게 농담을 던졌어요:\n",
      "\n",
      "\"왜 전자는 항상 파티에 늦게 와?\"  \n",
      "\"왜?\"  \n",
      "\"왜냐하면, 그는 항상 '음전하' 때문에 '전기'를\n"
     ]
    }
   ],
   "source": [
    "query = \"재미있는 과학유머 하나 알려줘.\"\n",
    "result1 = llm.invoke(query)\n",
    "print(\"응답1: \", result1.content)"
   ]
  },
  {
   "cell_type": "code",
   "execution_count": 24,
   "id": "750cbfaa",
   "metadata": {},
   "outputs": [
    {
     "name": "stdout",
     "output_type": "stream",
     "text": [
      "응답2:  물리학자가 친구에게 농담을 던졌어요:\n",
      "\n",
      "\"왜 전자는 항상 파티에 늦게 와?\"  \n",
      "\"왜?\"  \n",
      "\"왜냐하면, 그는 항상 '음전하' 때문에 '전기'를\n"
     ]
    }
   ],
   "source": [
    "result2 = llm.invoke(query)\n",
    "print(\"응답2: \", result2.content)"
   ]
  },
  {
   "cell_type": "code",
   "execution_count": 25,
   "id": "538d5e0c",
   "metadata": {},
   "outputs": [],
   "source": [
    "# SQLite를 이용 디스크 기반 캐시 설정\n",
    "import os\n",
    "from langchain_community.cache import SQLiteCache"
   ]
  },
  {
   "cell_type": "code",
   "execution_count": 26,
   "id": "7ff02d40",
   "metadata": {},
   "outputs": [],
   "source": [
    "# 기존 캐시 DB 삭제(실습을 위해서!!!)\n",
    "if os.path.exists(\".langchain_cache.db\"):\n",
    "  os.remove(\".langchain_cache.db\")\n",
    "  \n",
    "# SQLiteCache 설정\n",
    "set_llm_cache(SQLiteCache(database_path=\".langchain_cache.db\"))"
   ]
  },
  {
   "cell_type": "code",
   "execution_count": 27,
   "id": "9aab3332",
   "metadata": {},
   "outputs": [
    {
     "name": "stdout",
     "output_type": "stream",
     "text": [
      "응답1:  물리학자가 친구에게 농담을 던졌어요:\n",
      "\n",
      "\"왜 전자는 항상 파티에 늦게 와?\"  \n",
      "\"왜?\"  \n",
      "\"왜냐하면, 그는 항상 '음전하' 때문에 '음'이 붙\n"
     ]
    }
   ],
   "source": [
    "query = \"재미있는 과학유머 하나 알려줘.\"\n",
    "result1 = llm.invoke(query)\n",
    "print(\"응답1: \", result1.content)"
   ]
  },
  {
   "cell_type": "code",
   "execution_count": 28,
   "id": "93c68b20",
   "metadata": {},
   "outputs": [
    {
     "name": "stdout",
     "output_type": "stream",
     "text": [
      "응답2:  물리학자가 친구에게 농담을 던졌어요:\n",
      "\n",
      "\"왜 전자는 항상 파티에 늦게 와?\"  \n",
      "\"왜?\"  \n",
      "\"왜냐하면, 그는 항상 '음전하' 때문에 '음'이 붙\n"
     ]
    }
   ],
   "source": [
    "result2 = llm.invoke(query)\n",
    "print(\"응답2: \", result2.content)"
   ]
  },
  {
   "cell_type": "code",
   "execution_count": null,
   "id": "e4e8dcdc",
   "metadata": {},
   "outputs": [],
   "source": []
  }
 ],
 "metadata": {
  "kernelspec": {
   "display_name": "prompt_basic",
   "language": "python",
   "name": "python3"
  },
  "language_info": {
   "codemirror_mode": {
    "name": "ipython",
    "version": 3
   },
   "file_extension": ".py",
   "mimetype": "text/x-python",
   "name": "python",
   "nbconvert_exporter": "python",
   "pygments_lexer": "ipython3",
   "version": "3.13.2"
  }
 },
 "nbformat": 4,
 "nbformat_minor": 5
}
