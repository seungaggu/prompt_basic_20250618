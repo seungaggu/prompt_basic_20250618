{
 "cells": [
  {
   "cell_type": "code",
   "execution_count": 2,
   "id": "897642e7",
   "metadata": {},
   "outputs": [
    {
     "name": "stderr",
     "output_type": "stream",
     "text": [
      "  \u001b[31m×\u001b[0m No solution found when resolving dependencies:\n",
      "\u001b[31m  ╰─▶ \u001b[0mBecause ipkernel was not found in the package registry and\n",
      "\u001b[31m      \u001b[0mprompt-basic-20250618 depends on ipkernel, we can conclude that\n",
      "\u001b[31m      \u001b[0mprompt-basic-20250618's requirements are unsatisfiable.\n",
      "\u001b[31m      \u001b[0mAnd because your workspace requires prompt-basic-20250618, we can\n",
      "\u001b[31m      \u001b[0mconclude that your workspace's requirements are unsatisfiable.\n",
      "\u001b[36m  help: \u001b[0mIf you want to add the package regardless of the failed resolution,\n",
      "        provide the `\u001b[32m--frozen\u001b[39m` flag to skip locking and syncing.\n"
     ]
    }
   ],
   "source": [
    "!uv add jupyterlab notebook ipkernel anthropic python-dotenv"
   ]
  },
  {
   "cell_type": "code",
   "execution_count": 1,
   "id": "c60e08be",
   "metadata": {},
   "outputs": [
    {
     "name": "stdout",
     "output_type": "stream",
     "text": [
      "sk-ant-api03-\n"
     ]
    }
   ],
   "source": [
    "from dotenv import load_dotenv\n",
    "import os\n",
    "load_dotenv()\n",
    "\n",
    "api_key = os.getenv(\"ANTHROPIC_API_KEY\")\n",
    "print(api_key[:13])"
   ]
  },
  {
   "cell_type": "code",
   "execution_count": 3,
   "id": "c289992e",
   "metadata": {},
   "outputs": [],
   "source": [
    "from anthropic import Anthropic\n",
    "client = Anthropic(api_key=api_key)"
   ]
  }
 ],
 "metadata": {
  "kernelspec": {
   "display_name": "Python 3",
   "language": "python",
   "name": "python3"
  },
  "language_info": {
   "codemirror_mode": {
    "name": "ipython",
    "version": 3
   },
   "file_extension": ".py",
   "mimetype": "text/x-python",
   "name": "python",
   "nbconvert_exporter": "python",
   "pygments_lexer": "ipython3",
   "version": "3.13.2"
  }
 },
 "nbformat": 4,
 "nbformat_minor": 5
}
