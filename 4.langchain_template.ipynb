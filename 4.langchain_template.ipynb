{
 "cells": [
  {
   "cell_type": "markdown",
   "id": "b146d3c1",
   "metadata": {},
   "source": [
    "# 단일 입력 PromptTemplate"
   ]
  },
  {
   "cell_type": "code",
   "execution_count": 4,
   "id": "2360f95f",
   "metadata": {},
   "outputs": [],
   "source": [
    "from langchain.prompts import PromptTemplate"
   ]
  },
  {
   "cell_type": "code",
   "execution_count": 5,
   "id": "c5291112",
   "metadata": {},
   "outputs": [
    {
     "data": {
      "text/plain": [
       "'0.3.25'"
      ]
     },
     "execution_count": 5,
     "metadata": {},
     "output_type": "execute_result"
    }
   ],
   "source": [
    "import langchain\n",
    "langchain.__version__"
   ]
  },
  {
   "cell_type": "code",
   "execution_count": 6,
   "id": "2717286b",
   "metadata": {},
   "outputs": [
    {
     "name": "stdout",
     "output_type": "stream",
     "text": [
      "당신은 최고 수준의 마케팅 카피라이터입니다. \n",
      "아래 제품의 매력적인 홍보 문구를 200자 내외로 작성하십시오. \n",
      "\n",
      "제품명: 초슈퍼카메라 x100\n"
     ]
    }
   ],
   "source": [
    "template_str=(\n",
    "    '당신은 최고 수준의 마케팅 카피라이터입니다. \\n'\n",
    "    '아래 제품의 매력적인 홍보 문구를 200자 내외로 작성하십시오. \\n\\n'\n",
    "    '제품명: {product_name}'\n",
    ")\n",
    "prompt = PromptTemplate.from_template(template_str)\n",
    "formatted_prompt= prompt.format(product_name='초슈퍼카메라 x100')\n",
    "print(formatted_prompt)"
   ]
  },
  {
   "cell_type": "code",
   "execution_count": 7,
   "id": "7e228f8d",
   "metadata": {},
   "outputs": [
    {
     "name": "stdout",
     "output_type": "stream",
     "text": [
      "초슈퍼카메라 x100으로 순간을 놓치지 마세요! 선명한 화질과 빠른 반응속도로 어떤 순간도 생생하게 담아내는 최고의 선택. 프로처럼 찍는 즐거움, 지금 바로 경험하세요!\n"
     ]
    }
   ],
   "source": [
    "from langchain_openai import ChatOpenAI\n",
    "llm=ChatOpenAI(model='gpt-4.1-nano',temperature=0)\n",
    "chain=prompt|llm\n",
    "result=chain.invoke({'product_name':formatted_prompt})\n",
    "print(result.content)"
   ]
  },
  {
   "cell_type": "markdown",
   "id": "95c2250c",
   "metadata": {},
   "source": [
    "# 다중 입력 PromptTemplate"
   ]
  },
  {
   "cell_type": "code",
   "execution_count": 8,
   "id": "98935cc5",
   "metadata": {},
   "outputs": [
    {
     "name": "stdout",
     "output_type": "stream",
     "text": [
      "아래 뉴스 기사 제목과 키워드입니다\n",
      "이 정보를 바탕으로 한 문단으로 구성된 간략한 요약문을 작성하세요\n",
      "\n",
      "제목: 인공지능 기술과 발전과 미래\n",
      "키워드: 머신러닝, 딥러닝, 산업 혁신\n",
      "\n"
     ]
    }
   ],
   "source": [
    "multi_template_str=(\n",
    "    '아래 뉴스 기사 제목과 키워드입니다\\n'\n",
    "    '이 정보를 바탕으로 한 문단으로 구성된 간략한 요약문을 작성하세요\\n\\n'\n",
    "    '제목: {title}\\n'\n",
    "    '키워드: {keywords}\\n'\n",
    ")\n",
    "\n",
    "summary_prompt=PromptTemplate(template=multi_template_str, input_variables=['title','keywords'])\n",
    "sample_title='인공지능 기술과 발전과 미래'\n",
    "sample_keywords= '머신러닝, 딥러닝, 산업 혁신'\n",
    "formatted_summary_prompt=summary_prompt.format(title=sample_title, keywords=sample_keywords)\n",
    "print(formatted_summary_prompt)"
   ]
  },
  {
   "cell_type": "code",
   "execution_count": 9,
   "id": "39ac5cab",
   "metadata": {},
   "outputs": [
    {
     "name": "stdout",
     "output_type": "stream",
     "text": [
      "인공지능 기술은 머신러닝과 딥러닝의 발전을 바탕으로 산업 전반에 혁신을 일으키고 있으며, 앞으로도 지속적인 발전을 통해 다양한 분야에서 새로운 가능성을 열어갈 것으로 기대됩니다.\n"
     ]
    }
   ],
   "source": [
    "result_summary=(summary_prompt | llm).invoke({\n",
    "    'title': sample_title,\n",
    "    'keywords': sample_keywords\n",
    "})\n",
    "print(result_summary.content)"
   ]
  },
  {
   "cell_type": "markdown",
   "id": "a1edd032",
   "metadata": {},
   "source": [
    "# ChatPromptTemplate\n",
    "- 역할 기반 프롬프트"
   ]
  },
  {
   "cell_type": "code",
   "execution_count": 10,
   "id": "89c44e1f",
   "metadata": {},
   "outputs": [],
   "source": [
    "from langchain.prompts import ChatPromptTemplate"
   ]
  },
  {
   "cell_type": "code",
   "execution_count": 11,
   "id": "89b79519",
   "metadata": {},
   "outputs": [
    {
     "name": "stdout",
     "output_type": "stream",
     "text": [
      "[SystemMessage(content='당신은 파이썬 분야의 뛰어난 전문가이자 조언자입니다.사용자의 프로그래밍 질문에 친절하고 이해하기 쉽게 답변하시오.', additional_kwargs={}, response_metadata={}), HumanMessage(content='파이썬의 리스트 컴프리헨션(list comprehension)과 map 함수의 차이가 무엇인가요?', additional_kwargs={}, response_metadata={})]\n"
     ]
    }
   ],
   "source": [
    "# 시나리오 : 파이썬 프로그램 전무가 역할 부여, 사용자가 파이썬 관련 질문에 친절히, 간결한 답변 하도록\n",
    "sys_message=('당신은 파이썬 분야의 뛰어난 전문가이자 조언자입니다.'\n",
    "              '사용자의 프로그래밍 질문에 친절하고 이해하기 쉽게 답변하시오.'\n",
    "              )\n",
    "user_message='{question}'\n",
    "\n",
    "chat_prompt = ChatPromptTemplate.from_messages([\n",
    "    ('system', sys_message),\n",
    "    ('user', user_message)\n",
    "])\n",
    "sample_question='파이썬의 리스트 컴프리헨션(list comprehension)과 map 함수의 차이가 무엇인가요?'\n",
    "message=chat_prompt.format_messages(question=sample_question)\n",
    "print(message)"
   ]
  },
  {
   "cell_type": "code",
   "execution_count": 12,
   "id": "bf1b1fd4",
   "metadata": {},
   "outputs": [
    {
     "name": "stdout",
     "output_type": "stream",
     "text": [
      "안녕하세요! 파이썬의 리스트 컴프리헨션과 `map()` 함수는 둘 다 기존 시퀀스(리스트, 튜플 등)의 각 요소에 대해 어떤 작업을 수행해서 새 리스트를 만들 때 사용됩니다. 하지만 둘 사이에는 몇 가지 차이점이 있어요. 자세히 설명드릴게요.\n",
      "\n",
      "### 1. 문법과 가독성\n",
      "- **리스트 컴프리헨션**은 더 직관적이고 간결한 문법을 가지고 있어요.\n",
      "  \n",
      "  ```python\n",
      "  # 예: 0부터 4까지의 제곱을 리스트로 만들기\n",
      "  squares = [x**2 for x in range(5)]\n",
      "  ```\n",
      "\n",
      "- **`map()` 함수**는 함수와 시퀀스를 인자로 받아서, 그 함수가 시퀀스의 각 요소에 적용된 결과를 반환합니다.\n",
      "  \n",
      "  ```python\n",
      "  def square(x):\n",
      "      return x**2\n",
      "\n",
      "  squares = list(map(square, range(5)))\n",
      "  ```\n",
      "\n",
      "### 2. 가독성과 사용 편의성\n",
      "- 리스트 컴프리헨션은 한 줄로 간단하게 표현할 수 있어서 가독성이 좋아요.\n",
      "- `map()`은 함수가 별도로 정의되어 있어야 하거나, 람다 함수를 사용할 수 있는데, 이 경우 가독성이 떨어질 수 있어요.\n",
      "\n",
      "### 3. 함수와의 결합\n",
      "- `map()`은 기존 함수를 재사용하거나, 이미 정의된 함수를 적용할 때 유용합니다.\n",
      "- 리스트 컴프리헨션은 인라인으로 조건문이나 복잡한 표현식을 넣기 쉽습니다.\n",
      "\n",
      "### 4. 조건문 사용\n",
      "- 리스트 컴프리헨션은 조건문도 쉽게 넣을 수 있어요.\n",
      "  \n",
      "  ```python\n",
      "  # 짝수만 제곱\n",
      "  even_squares = [x**2 for x in range(10) if x % 2 == 0]\n",
      "  ```\n",
      "\n",
      "- `map()`은 조건문을 넣기 위해서는 별도의 함수 내에서 조건문을 써야 합니다.\n",
      "\n",
      "### 5. 성능 차이\n",
      "- 일반적으로 두 방법의 성능 차이는 크지 않지만, 간단한 작업에서는 리스트 컴프리헨션이 약간 더 빠를 수 있어요.\n",
      "\n",
      "---\n",
      "\n",
      "### 결론\n",
      "- **리스트 컴프리헨션**은 간단하고 직관적이며, 조건문이나 복잡한 표현식을 넣기 쉽기 때문에 추천하는 경우가 많아요.\n",
      "- **`map()`**은 기존 함수를 재사용하거나, 함수형 프로그래밍 스타일을 선호할 때 유용합니다.\n",
      "\n",
      "혹시 더 궁금한 점이나 예제 요청이 있으면 언제든 말씀해 주세요!\n"
     ]
    }
   ],
   "source": [
    "result=(chat_prompt | llm).invoke({'question',sample_question})\n",
    "print(result.content)"
   ]
  },
  {
   "cell_type": "markdown",
   "id": "673c2608",
   "metadata": {},
   "source": [
    "# PartialPromptTemplate"
   ]
  },
  {
   "cell_type": "code",
   "execution_count": 13,
   "id": "2db919a4",
   "metadata": {},
   "outputs": [],
   "source": [
    "from langchain.prompts import SystemMessagePromptTemplate\n",
    "from langchain.prompts import HumanMessagePromptTemplate"
   ]
  },
  {
   "cell_type": "code",
   "execution_count": 19,
   "id": "c90994d6",
   "metadata": {},
   "outputs": [],
   "source": [
    "role_system_template='당신은 {role}분야의 전문 지식인입니다 가능한 한 자세히 답변해주세요'\n",
    "system_prompt=SystemMessagePromptTemplate.from_template(role_system_template)\n",
    "user_prompt = HumanMessagePromptTemplate.from_template('{question}')\n",
    "\n",
    "base_chat_prompt=ChatPromptTemplate.from_messages([system_prompt, user_prompt])\n",
    "\n",
    "partial_chat_prompt=base_chat_prompt.partial(role='주식 투자')"
   ]
  },
  {
   "cell_type": "code",
   "execution_count": 17,
   "id": "bff18425",
   "metadata": {},
   "outputs": [
    {
     "name": "stdout",
     "output_type": "stream",
     "text": [
      "[SystemMessage(content='당신은 주식 투자분야의 전문 지식인입니다 가능한 한 자세히 답변해주세요', additional_kwargs={}, response_metadata={}), HumanMessage(content='현재 2025년 6월 시장 상황에서 삼성전자 주식 전망은 어때?', additional_kwargs={}, response_metadata={})]\n"
     ]
    }
   ],
   "source": [
    "sample_question='현재 2025년 6월 시장 상황에서 삼성전자 주식 전망은 어때?'\n",
    "message=partial_chat_prompt.format_messages(question=sample_question)\n",
    "print(message)"
   ]
  },
  {
   "cell_type": "code",
   "execution_count": 20,
   "id": "e9e66261",
   "metadata": {},
   "outputs": [
    {
     "name": "stdout",
     "output_type": "stream",
     "text": [
      "2025년 6월 현재 시장 상황을 고려할 때, 삼성전자 주식의 전망은 여러 요인에 따라 달라질 수 있습니다. 아래에 주요 분석 포인트를 상세히 설명드리겠습니다.\n",
      "\n",
      "1. 글로벌 반도체 시장 동향\n",
      "- 삼성전자는 세계 최대 반도체 제조업체 중 하나로, D램과 낸드플래시 시장에서 강력한 위치를 차지하고 있습니다.\n",
      "- 2024년 이후 글로벌 반도체 수요는 데이터 센터, AI, 5G, 자율주행차 등 첨단 기술 분야의 성장에 힘입어 지속적으로 증가하는 추세입니다.\n",
      "- 그러나, 글로벌 공급망 문제, 원자재 가격 변동, 경쟁사(인텔, SK하이닉스 등)의 시장 점유율 경쟁이 지속되고 있어, 반도체 가격 변동성은 여전히 존재합니다.\n",
      "\n",
      "2. 모바일 및 가전사업\n",
      "- 삼성전자는 스마트폰(갤럭시 시리즈), 가전제품(TV, 냉장고, 세탁기 등) 부문에서도 강력한 브랜드 파워와 시장 점유율을 유지하고 있습니다.\n",
      "- 2024년 이후 5G/6G 통신기술, 프리미엄 스마트폰 수요가 지속될 것으로 예상되며, 신기술 도입과 신제품 출시가 매출 성장에 긍정적 영향을 미칠 수 있습니다.\n",
      "\n",
      "3. 기술 혁신 및 투자 전략\n",
      "- 삼성전자는 인공지능, 파운드리(반도체 위탁생산), 차세대 디스플레이 등 미래 성장 동력에 대한 투자를 확대하고 있습니다.\n",
      "- 특히, 파운드리 사업은 글로벌 고객사 확보와 첨단 공정 개발로 경쟁력을 강화하고 있어, 장기적 성장 기대가 높습니다.\n",
      "\n",
      "4. 글로벌 경제 및 정책 환경\n",
      "- 미국, 중국, 유럽 등 주요 시장의 경제 정책, 무역 정책, 규제 변화가 삼성전자 실적에 영향을 미칠 수 있습니다.\n",
      "- 예를 들어, 미국의 반도체 지원 정책(반도체법)과 중국의 시장 규제 강화는 각각 기회와 도전 요인으로 작용할 수 있습니다.\n",
      "\n",
      "5. 주가 전망 및 투자 전략\n",
      "- 2025년 6월 현재, 삼성전자는 글로벌 경기 회복, 기술 혁신, 수요 증가 기대에 힘입어 긍정적인 전망을 갖고 있습니다.\n",
      "- 그러나, 글로벌 경기 둔화, 경쟁 심화, 원자재 가격 변동성 등은 주가에 변동성을 유발할 수 있으니, 투자 시 분산과 리스크 관리가 중요합니다.\n",
      "- 단기적으로는 글로벌 시장 변동성, 환율, 금리 정책 등을 주시하며, 장기적 관점에서는 삼성전자의 기술력과 시장 지배력을 고려한 투자 전략이 유효할 수 있습니다.\n",
      "\n",
      "요약하자면, 2025년 6월 현재 삼성전자는 기술력과 시장 지배력을 바탕으로 긍정적인 성장 전망을 갖고 있으나, 글로벌 경제 환경과 경쟁 구도에 따른 변동성도 존재합니다. 투자 결정 시에는 최신 시장 동향과 기업 실적, 글로벌 정책 변화 등을 종합적으로 고려하는 것이 중요합니다.\n"
     ]
    }
   ],
   "source": [
    "result=(partial_chat_prompt | llm).invoke({'question',sample_question})\n",
    "print(result.content)"
   ]
  }
 ],
 "metadata": {
  "kernelspec": {
   "display_name": "Python 3",
   "language": "python",
   "name": "python3"
  },
  "language_info": {
   "codemirror_mode": {
    "name": "ipython",
    "version": 3
   },
   "file_extension": ".py",
   "mimetype": "text/x-python",
   "name": "python",
   "nbconvert_exporter": "python",
   "pygments_lexer": "ipython3",
   "version": "3.13.2"
  }
 },
 "nbformat": 4,
 "nbformat_minor": 5
}
