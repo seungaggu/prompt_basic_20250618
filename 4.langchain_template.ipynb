{
 "cells": [
  {
   "cell_type": "markdown",
   "id": "b146d3c1",
   "metadata": {},
   "source": [
    "# 단일 입력 PromptTemplate"
   ]
  },
  {
   "cell_type": "code",
   "execution_count": 1,
   "id": "2360f95f",
   "metadata": {},
   "outputs": [],
   "source": [
    "from langchain.prompts import PromptTemplate"
   ]
  },
  {
   "cell_type": "code",
   "execution_count": 2,
   "id": "c5291112",
   "metadata": {},
   "outputs": [
    {
     "data": {
      "text/plain": [
       "'0.3.25'"
      ]
     },
     "execution_count": 2,
     "metadata": {},
     "output_type": "execute_result"
    }
   ],
   "source": [
    "import langchain\n",
    "langchain.__version__"
   ]
  },
  {
   "cell_type": "code",
   "execution_count": 10,
   "id": "2717286b",
   "metadata": {},
   "outputs": [
    {
     "name": "stdout",
     "output_type": "stream",
     "text": [
      "당신은 최고 수준의 마케팅 카피라이터입니다. \n",
      "아래 제품의 매력적인 홍보 문구를 200자 내외로 작성하십시오. \n",
      "\n",
      "제품명: 초슈퍼카메라 x100\n"
     ]
    }
   ],
   "source": [
    "template_str=(\n",
    "    '당신은 최고 수준의 마케팅 카피라이터입니다. \\n'\n",
    "    '아래 제품의 매력적인 홍보 문구를 200자 내외로 작성하십시오. \\n\\n'\n",
    "    '제품명: {product_name}'\n",
    ")\n",
    "prompt = PromptTemplate.from_template(template_str)\n",
    "formatted_prompt= prompt.format(product_name='초슈퍼카메라 x100')\n",
    "print(formatted_prompt)"
   ]
  },
  {
   "cell_type": "code",
   "execution_count": 11,
   "id": "7e228f8d",
   "metadata": {},
   "outputs": [
    {
     "name": "stdout",
     "output_type": "stream",
     "text": [
      "초슈퍼카메라 x100으로 순간을 놓치지 마세요! 선명한 화질과 빠른 반응속도로 어떤 순간도 생생하게 담아내는 최고의 선택. 프로처럼 찍는 즐거움, 지금 바로 경험하세요!\n"
     ]
    }
   ],
   "source": [
    "from langchain_openai import ChatOpenAI\n",
    "llm=ChatOpenAI(model='gpt-4.1-nano',temperature=0)\n",
    "chain=prompt|llm\n",
    "result=chain.invoke({'product_name':formatted_prompt})\n",
    "print(result.content)"
   ]
  },
  {
   "cell_type": "markdown",
   "id": "95c2250c",
   "metadata": {},
   "source": [
    "# 다중 입력 PromptTemplate"
   ]
  },
  {
   "cell_type": "code",
   "execution_count": 16,
   "id": "98935cc5",
   "metadata": {},
   "outputs": [
    {
     "name": "stdout",
     "output_type": "stream",
     "text": [
      "아래 뉴스 기사 제목과 키워드입니다\n",
      "이 정보를 바탕으로 한 문단으로 구성된 간략한 요약문을 작성하세요\n",
      "\n",
      "제목: 인공지능 기술과 발전과 미래\n",
      "키워드: 머신러닝, 딥러닝, 산업 혁신\n",
      "\n"
     ]
    }
   ],
   "source": [
    "multi_template_str=(\n",
    "    '아래 뉴스 기사 제목과 키워드입니다\\n'\n",
    "    '이 정보를 바탕으로 한 문단으로 구성된 간략한 요약문을 작성하세요\\n\\n'\n",
    "    '제목: {title}\\n'\n",
    "    '키워드: {keywords}\\n'\n",
    ")\n",
    "\n",
    "summary_prompt=PromptTemplate(template=multi_template_str, input_variables=['title','keywords'])\n",
    "sample_title='인공지능 기술과 발전과 미래'\n",
    "sample_keywords= '머신러닝, 딥러닝, 산업 혁신'\n",
    "formatted_summary_prompt=summary_prompt.format(title=sample_title, keywords=sample_keywords)\n",
    "print(formatted_summary_prompt)"
   ]
  },
  {
   "cell_type": "code",
   "execution_count": 18,
   "id": "39ac5cab",
   "metadata": {},
   "outputs": [
    {
     "name": "stdout",
     "output_type": "stream",
     "text": [
      "인공지능 기술은 머신러닝과 딥러닝의 발전을 바탕으로 산업 전반에 혁신을 일으키고 있으며, 앞으로도 지속적인 발전을 통해 다양한 분야에서 새로운 가능성을 열어갈 것으로 기대됩니다.\n"
     ]
    }
   ],
   "source": [
    "result_summary=(summary_prompt | llm).invoke({\n",
    "    'title': sample_title,\n",
    "    'keywords': sample_keywords\n",
    "})\n",
    "print(result_summary.content)"
   ]
  }
 ],
 "metadata": {
  "kernelspec": {
   "display_name": "Python 3",
   "language": "python",
   "name": "python3"
  },
  "language_info": {
   "codemirror_mode": {
    "name": "ipython",
    "version": 3
   },
   "file_extension": ".py",
   "mimetype": "text/x-python",
   "name": "python",
   "nbconvert_exporter": "python",
   "pygments_lexer": "ipython3",
   "version": "3.13.2"
  }
 },
 "nbformat": 4,
 "nbformat_minor": 5
}
