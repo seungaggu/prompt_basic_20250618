{
 "cells": [
  {
   "cell_type": "code",
   "execution_count": 6,
   "id": "60f13d68",
   "metadata": {},
   "outputs": [
    {
     "data": {
      "text/plain": [
       "True"
      ]
     },
     "execution_count": 6,
     "metadata": {},
     "output_type": "execute_result"
    }
   ],
   "source": [
    "from dotenv import load_dotenv\n",
    "import os\n",
    "from anthropic import Anthropic\n",
    "from IPython.display import display, Markdown\n",
    "load_dotenv()"
   ]
  },
  {
   "cell_type": "code",
   "execution_count": 8,
   "id": "b7920fef",
   "metadata": {},
   "outputs": [],
   "source": [
    "client = Anthropic(api_key=os.getenv('ANTHROPIC_API_KEY'))"
   ]
  },
  {
   "cell_type": "code",
   "execution_count": 26,
   "id": "94d7c8e2",
   "metadata": {},
   "outputs": [],
   "source": [
    "def compare_models():\n",
    "    model=['claude-3-haiku-20240307','claude-3-5-sonnet-20240620','claude-3-opus-20240229']\n",
    "    task=\"\"\"\n",
    "        다음 문제를 해결하십시오.\n",
    "        <문제>\n",
    "        4명의 용의자 중 3명은 진실을 말하고, 1명은 거짓말을 합니다.\n",
    "        A는 B가 범인이다라고 말합니다.\n",
    "        B는 C가 범인이다라고 말합니다.\n",
    "        C는 D가 범인이다라고 말합니다.\n",
    "        D는 C가 범인이다라고 말합니다.\n",
    "        </문제>\n",
    "        이 문제에 대해서 해결할 수 없다면 해결할 수 없다고 말하십시오.\n",
    "        \"\"\"\n",
    "        \n",
    "    for model in model:\n",
    "        ansnwer=[]\n",
    "        for _ in range(5):\n",
    "            response = client.messages.create(\n",
    "                model=model,\n",
    "                messages=[\n",
    "                    {\"role\": \"user\", \"content\": task}\n",
    "                ],\n",
    "                max_tokens=1000,\n",
    "            )\n",
    "            ansnwer.append(response.content[0].text)\n",
    "            ansnwer.append('***')\n",
    "        display(Markdown(f'##Model: {model}'))\n",
    "        for i ,ansnwer in enumerate(ansnwer):\n",
    "            display(Markdown(f\"{i+1}. {ansnwer}\"))\n",
    "            print('\\n\\n')"
   ]
  },
  {
   "cell_type": "code",
   "execution_count": null,
   "id": "c220742e",
   "metadata": {},
   "outputs": [],
   "source": [
    "compare_models()"
   ]
  }
 ],
 "metadata": {
  "kernelspec": {
   "display_name": "Python 3",
   "language": "python",
   "name": "python3"
  },
  "language_info": {
   "codemirror_mode": {
    "name": "ipython",
    "version": 3
   },
   "file_extension": ".py",
   "mimetype": "text/x-python",
   "name": "python",
   "nbconvert_exporter": "python",
   "pygments_lexer": "ipython3",
   "version": "3.13.2"
  }
 },
 "nbformat": 4,
 "nbformat_minor": 5
}
