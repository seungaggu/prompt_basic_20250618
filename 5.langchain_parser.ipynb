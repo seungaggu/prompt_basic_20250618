{
 "cells": [
  {
   "cell_type": "markdown",
   "id": "420c9e1f",
   "metadata": {},
   "source": [
    "# Output Parser\n",
    "- StrOutputParser\n",
    "- JsonOutParser\n",
    "- CommaSeparatedListOutputParser"
   ]
  },
  {
   "cell_type": "code",
   "execution_count": 4,
   "id": "b64795ba",
   "metadata": {},
   "outputs": [],
   "source": [
    "from langchain.prompts import PromptTemplate\n",
    "from langchain_core.output_parsers import StrOutputParser\n",
    "from langchain_openai import ChatOpenAI"
   ]
  },
  {
   "cell_type": "code",
   "execution_count": 5,
   "id": "0798ab51",
   "metadata": {},
   "outputs": [],
   "source": [
    "llm = ChatOpenAI(model=\"gpt-4.1-nano\", max_tokens=50, temperature=0.2)\n",
    "output_parser=StrOutputParser()\n",
    "prompt=PromptTemplate(template='질문 : {question}한 단어로 답하세요', input_variables=['question'])\n",
    "chain = prompt | llm | output_parser"
   ]
  },
  {
   "cell_type": "code",
   "execution_count": 6,
   "id": "bafa4482",
   "metadata": {},
   "outputs": [
    {
     "name": "stdout",
     "output_type": "stream",
     "text": [
      "대한민국\n"
     ]
    }
   ],
   "source": [
    "query={'question':\"서울은 어느 나라의 수도인가요?\"}\n",
    "result=chain.invoke(query)\n",
    "print(result)"
   ]
  },
  {
   "cell_type": "markdown",
   "id": "02c2c081",
   "metadata": {},
   "source": [
    "# CommaSeparated List Output Parser"
   ]
  },
  {
   "cell_type": "code",
   "execution_count": 7,
   "id": "1be7576d",
   "metadata": {},
   "outputs": [],
   "source": [
    "from langchain_core.output_parsers import CommaSeparatedListOutputParser\n",
    "from langchain import PromptTemplate"
   ]
  },
  {
   "cell_type": "code",
   "execution_count": 8,
   "id": "41d31969",
   "metadata": {},
   "outputs": [
    {
     "name": "stdout",
     "output_type": "stream",
     "text": [
      "기본 형식 지침: \n",
      " Your response should be a list of comma separated values, eg: `foo, bar, baz` or `foo,bar,baz`\n"
     ]
    }
   ],
   "source": [
    "cs_list_parser = CommaSeparatedListOutputParser()\n",
    "format_instections = cs_list_parser.get_format_instructions()\n",
    "print('기본 형식 지침: \\n', format_instections)"
   ]
  },
  {
   "cell_type": "code",
   "execution_count": 9,
   "id": "b2c431c1",
   "metadata": {},
   "outputs": [],
   "source": [
    "format_instructions_ko =\"응답은 쉼표로 구분된 값의 목록 형태로 출력하십시오. \\n 예: '사과, 바나나, 오렌지'\"\n",
    "prompt= PromptTemplate(template='다음 {item} 5가지를 나열하세요.\\n {format_instructions}',\n",
    "                       input_variables=['item'],\n",
    "                       partial_variables={'format_instructions': format_instructions_ko})\n",
    "chain = prompt | llm | cs_list_parser"
   ]
  },
  {
   "cell_type": "code",
   "execution_count": 10,
   "id": "7dda07d0",
   "metadata": {},
   "outputs": [
    {
     "name": "stdout",
     "output_type": "stream",
     "text": [
      "['초콜릿', '바닐라', '딸기', '민트 초코칩', '녹차']\n"
     ]
    }
   ],
   "source": [
    "input_data={'item': '아이스크림 맛'}\n",
    "result_list = chain.invoke(input_data)\n",
    "print(result_list)"
   ]
  },
  {
   "cell_type": "markdown",
   "id": "a4906ef1",
   "metadata": {},
   "source": [
    "# Json Output Parser"
   ]
  },
  {
   "cell_type": "code",
   "execution_count": 11,
   "id": "9ffbc532",
   "metadata": {},
   "outputs": [],
   "source": [
    "from langchain_core.output_parsers import JsonOutputParser"
   ]
  },
  {
   "cell_type": "code",
   "execution_count": 12,
   "id": "31bce583",
   "metadata": {},
   "outputs": [],
   "source": [
    "json_parser = JsonOutputParser()\n",
    "\n",
    "movie_prompt = PromptTemplate(\n",
    "    template=(\n",
    "        \"다음 사용자 취향에 맞는 영화를 한 편 추천해주세요.\\n\"\n",
    "        \"취향: {preference}\\n\\n\"\n",
    "        \"아래 형식의 JSON으로만 답변하십시오 (추가설명 금지):\\n\"\n",
    "        '{{\"title\": \"<영화 제목>\", \"year\": <출시년도>, \"genre\": \"<장르>\"}}'\n",
    "    ),\n",
    "    input_variables=['preference']\n",
    ")\n",
    "llm=ChatOpenAI(model='gpt-4.1-nano',temperature=0)\n",
    "chain = movie_prompt | llm | json_parser"
   ]
  },
  {
   "cell_type": "code",
   "execution_count": 13,
   "id": "bb9668dc",
   "metadata": {},
   "outputs": [
    {
     "name": "stdout",
     "output_type": "stream",
     "text": [
      "{'title': '인터스텔라', 'year': 2014, 'genre': 'SF'}\n"
     ]
    }
   ],
   "source": [
    "user_input={'preference':'SF(공상과학)'}\n",
    "result=chain.invoke(user_input)\n",
    "print(result)"
   ]
  },
  {
   "cell_type": "code",
   "execution_count": 14,
   "id": "2bd48a1c",
   "metadata": {},
   "outputs": [
    {
     "name": "stdout",
     "output_type": "stream",
     "text": [
      "영화제목:  인터스텔라\n"
     ]
    }
   ],
   "source": [
    "print('영화제목: ', result['title'])"
   ]
  },
  {
   "cell_type": "code",
   "execution_count": 17,
   "id": "bd22714d",
   "metadata": {},
   "outputs": [
    {
     "name": "stderr",
     "output_type": "stream",
     "text": [
      "\u001b[2mResolved \u001b[1m85 packages\u001b[0m \u001b[2min 1.54s\u001b[0m\u001b[0m\n",
      "\u001b[2mPrepared \u001b[1m18 packages\u001b[0m \u001b[2min 6.55s\u001b[0m\u001b[0m\n",
      "\u001b[2mInstalled \u001b[1m27 packages\u001b[0m \u001b[2min 543ms\u001b[0m\u001b[0m\n",
      " \u001b[32m+\u001b[39m \u001b[1maiohttp-retry\u001b[0m\u001b[2m==2.9.1\u001b[0m\n",
      " \u001b[32m+\u001b[39m \u001b[1mcffi\u001b[0m\u001b[2m==1.17.1\u001b[0m\n",
      " \u001b[32m+\u001b[39m \u001b[1miniconfig\u001b[0m\u001b[2m==2.1.0\u001b[0m\n",
      " \u001b[32m+\u001b[39m \u001b[1mlangchain-pinecone\u001b[0m\u001b[2m==0.2.8\u001b[0m\n",
      " \u001b[32m+\u001b[39m \u001b[1mlangchain-tests\u001b[0m\u001b[2m==0.3.20\u001b[0m\n",
      " \u001b[32m+\u001b[39m \u001b[1mmarkdown-it-py\u001b[0m\u001b[2m==3.0.0\u001b[0m\n",
      " \u001b[32m+\u001b[39m \u001b[1mmdurl\u001b[0m\u001b[2m==0.1.2\u001b[0m\n",
      " \u001b[32m+\u001b[39m \u001b[1mpinecone\u001b[0m\u001b[2m==7.2.0\u001b[0m\n",
      " \u001b[32m+\u001b[39m \u001b[1mpinecone-client\u001b[0m\u001b[2m==6.0.0\u001b[0m\n",
      " \u001b[32m+\u001b[39m \u001b[1mpinecone-plugin-assistant\u001b[0m\u001b[2m==1.7.0\u001b[0m\n",
      " \u001b[32m+\u001b[39m \u001b[1mpinecone-plugin-interface\u001b[0m\u001b[2m==0.0.7\u001b[0m\n",
      " \u001b[32m+\u001b[39m \u001b[1mpluggy\u001b[0m\u001b[2m==1.6.0\u001b[0m\n",
      " \u001b[32m+\u001b[39m \u001b[1mpy-cpuinfo\u001b[0m\u001b[2m==9.0.0\u001b[0m\n",
      " \u001b[32m+\u001b[39m \u001b[1mpycparser\u001b[0m\u001b[2m==2.22\u001b[0m\n",
      " \u001b[32m+\u001b[39m \u001b[1mpygments\u001b[0m\u001b[2m==2.19.1\u001b[0m\n",
      " \u001b[32m+\u001b[39m \u001b[1mpytest\u001b[0m\u001b[2m==8.4.1\u001b[0m\n",
      " \u001b[32m+\u001b[39m \u001b[1mpytest-asyncio\u001b[0m\u001b[2m==0.26.0\u001b[0m\n",
      " \u001b[32m+\u001b[39m \u001b[1mpytest-benchmark\u001b[0m\u001b[2m==5.1.0\u001b[0m\n",
      " \u001b[32m+\u001b[39m \u001b[1mpytest-codspeed\u001b[0m\u001b[2m==3.2.0\u001b[0m\n",
      " \u001b[32m+\u001b[39m \u001b[1mpytest-recording\u001b[0m\u001b[2m==0.13.4\u001b[0m\n",
      " \u001b[32m+\u001b[39m \u001b[1mpytest-socket\u001b[0m\u001b[2m==0.7.0\u001b[0m\n",
      " \u001b[32m+\u001b[39m \u001b[1mpython-dateutil\u001b[0m\u001b[2m==2.9.0.post0\u001b[0m\n",
      " \u001b[32m+\u001b[39m \u001b[1mrich\u001b[0m\u001b[2m==14.0.0\u001b[0m\n",
      " \u001b[32m+\u001b[39m \u001b[1msix\u001b[0m\u001b[2m==1.17.0\u001b[0m\n",
      " \u001b[32m+\u001b[39m \u001b[1msyrupy\u001b[0m\u001b[2m==4.9.1\u001b[0m\n",
      " \u001b[32m+\u001b[39m \u001b[1mvcrpy\u001b[0m\u001b[2m==7.0.0\u001b[0m\n",
      " \u001b[32m+\u001b[39m \u001b[1mwrapt\u001b[0m\u001b[2m==1.17.2\u001b[0m\n"
     ]
    }
   ],
   "source": [
    "!uv add pinecone-client langchain-pinecone"
   ]
  }
 ],
 "metadata": {
  "kernelspec": {
   "display_name": "Python 3",
   "language": "python",
   "name": "python3"
  },
  "language_info": {
   "codemirror_mode": {
    "name": "ipython",
    "version": 3
   },
   "file_extension": ".py",
   "mimetype": "text/x-python",
   "name": "python",
   "nbconvert_exporter": "python",
   "pygments_lexer": "ipython3",
   "version": "3.13.2"
  }
 },
 "nbformat": 4,
 "nbformat_minor": 5
}
